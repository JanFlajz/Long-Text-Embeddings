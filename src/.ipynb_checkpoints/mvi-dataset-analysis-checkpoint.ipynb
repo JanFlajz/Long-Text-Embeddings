{
 "cells": [
  {
   "cell_type": "markdown",
   "metadata": {},
   "source": [
    "# The purpose of this notebook is to preprocess the raw dataset to form suitable for classification task "
   ]
  },
  {
   "cell_type": "code",
   "execution_count": 3,
   "metadata": {
    "_cell_guid": "b1076dfc-b9ad-4769-8c92-a6c4dae69d19",
    "_uuid": "8f2839f25d086af736a60e9eeb907d3b93b6e0e5"
   },
   "outputs": [],
   "source": [
    "import os\n",
    "import warnings\n",
    "import pandas as pd\n",
    "warnings.simplefilter(action='ignore', category=FutureWarning)\n",
    "\n",
    "\n",
    "\n"
   ]
  },
  {
   "cell_type": "code",
   "execution_count": 4,
   "metadata": {},
   "outputs": [],
   "source": [
    "df = pd.read_csv(\"dataset.csv\")"
   ]
  },
  {
   "cell_type": "code",
   "execution_count": 5,
   "metadata": {},
   "outputs": [
    {
     "data": {
      "text/html": [
       "<div>\n",
       "<style scoped>\n",
       "    .dataframe tbody tr th:only-of-type {\n",
       "        vertical-align: middle;\n",
       "    }\n",
       "\n",
       "    .dataframe tbody tr th {\n",
       "        vertical-align: top;\n",
       "    }\n",
       "\n",
       "    .dataframe thead th {\n",
       "        text-align: right;\n",
       "    }\n",
       "</style>\n",
       "<table border=\"1\" class=\"dataframe\">\n",
       "  <thead>\n",
       "    <tr style=\"text-align: right;\">\n",
       "      <th></th>\n",
       "      <th>text</th>\n",
       "      <th>label</th>\n",
       "      <th>language</th>\n",
       "    </tr>\n",
       "  </thead>\n",
       "  <tbody>\n",
       "    <tr>\n",
       "      <th>0</th>\n",
       "      <td>!! sirup se slovem \"Goodness\" v nazvu je na 6 ...</td>\n",
       "      <td>0</td>\n",
       "      <td>cs</td>\n",
       "    </tr>\n",
       "    <tr>\n",
       "      <th>1</th>\n",
       "      <td>!KE!</td>\n",
       "      <td>2</td>\n",
       "      <td>cs</td>\n",
       "    </tr>\n",
       "    <tr>\n",
       "      <th>2</th>\n",
       "      <td>\"+\" Výkon dobrý. Bez sáčků. \"-\" Malý \"molitan\"...</td>\n",
       "      <td>0</td>\n",
       "      <td>cs</td>\n",
       "    </tr>\n",
       "    <tr>\n",
       "      <th>3</th>\n",
       "      <td>\"Blikačka\" je klasická, výkonná. Dělalo mi pro...</td>\n",
       "      <td>1</td>\n",
       "      <td>cs</td>\n",
       "    </tr>\n",
       "    <tr>\n",
       "      <th>4</th>\n",
       "      <td>\"Boška\" je super lednice.Sice trochu dražší,al...</td>\n",
       "      <td>2</td>\n",
       "      <td>cs</td>\n",
       "    </tr>\n",
       "  </tbody>\n",
       "</table>\n",
       "</div>"
      ],
      "text/plain": [
       "                                                text  label language\n",
       "0  !! sirup se slovem \"Goodness\" v nazvu je na 6 ...      0       cs\n",
       "1                                               !KE!      2       cs\n",
       "2  \"+\" Výkon dobrý. Bez sáčků. \"-\" Malý \"molitan\"...      0       cs\n",
       "3  \"Blikačka\" je klasická, výkonná. Dělalo mi pro...      1       cs\n",
       "4  \"Boška\" je super lednice.Sice trochu dražší,al...      2       cs"
      ]
     },
     "execution_count": 5,
     "metadata": {},
     "output_type": "execute_result"
    }
   ],
   "source": [
    "df.head()"
   ]
  },
  {
   "cell_type": "markdown",
   "metadata": {},
   "source": [
    "**Function that removes urls and hashtags from all texts for better analysis**"
   ]
  },
  {
   "cell_type": "code",
   "execution_count": 6,
   "metadata": {},
   "outputs": [],
   "source": [
    "def remove_urls(texts: pd.Series) -> pd.Series:\n",
    "    '''\n",
    "    Removes urls and hashtags from all texts in the given series (one-dimensional ndarray).\n",
    "    \n",
    "    Parameters\n",
    "    ----------\n",
    "    texts\n",
    "        pd.Series (one-dimensional ndarray) of texts.\n",
    "            \n",
    "    Returns\n",
    "    -------\n",
    "    pandas.Series\n",
    "        Series of articles stripped of urls.\n",
    "    '''\n",
    "    return texts.replace(r'http\\S+', '', regex=True).replace(r'www\\S+', ' ', regex=True).replace(r'#\\S+', ' ', regex=True)"
   ]
  },
  {
   "cell_type": "code",
   "execution_count": 7,
   "metadata": {},
   "outputs": [],
   "source": [
    "df['text'] = remove_urls(df['text'])"
   ]
  },
  {
   "cell_type": "markdown",
   "metadata": {},
   "source": [
    "**Next, we remove sentences that are to short** "
   ]
  },
  {
   "cell_type": "code",
   "execution_count": 8,
   "metadata": {},
   "outputs": [],
   "source": [
    "def remove_short_texts(text_df: pd.DataFrame,max_len:int) -> pd.DataFrame:\n",
    "    '''\n",
    "    Removes texts that are shorter than max available length\n",
    "    \n",
    "    Parameters\n",
    "    ----------\n",
    "    text_df\n",
    "            pandas.DataFrame with all texts\n",
    "    max_len\n",
    "    -------\n",
    "            int that defines max len\n",
    "    \n",
    "    Returns\n",
    "    -------\n",
    "    pandas.DataFrame\n",
    "            Dataframe striped of short texts\n",
    "    '''\n",
    "\n",
    "    text_df['len_cnt'] = text_df['text'].apply(lambda x: len(x))\n",
    "    text_df = text_df[text_df['len_cnt'] > max_len]\n",
    "    return text_df.drop('len_cnt',axis=1)"
   ]
  },
  {
   "cell_type": "code",
   "execution_count": 9,
   "metadata": {},
   "outputs": [],
   "source": [
    "df = remove_short_texts(df,139)"
   ]
  },
  {
   "cell_type": "code",
   "execution_count": 10,
   "metadata": {},
   "outputs": [
    {
     "data": {
      "text/plain": [
       "zh    30985\n",
       "cs    29325\n",
       "es     8051\n",
       "ru     2964\n",
       "de     2480\n",
       "en     1495\n",
       "Name: language, dtype: int64"
      ]
     },
     "execution_count": 10,
     "metadata": {},
     "output_type": "execute_result"
    }
   ],
   "source": [
    "df['language'].value_counts()"
   ]
  },
  {
   "cell_type": "markdown",
   "metadata": {},
   "source": [
    "**Finally, make all lanugages equal size in dataframe**"
   ]
  },
  {
   "cell_type": "code",
   "execution_count": 11,
   "metadata": {},
   "outputs": [],
   "source": [
    "min_size = min(list(df['language'].value_counts()))"
   ]
  },
  {
   "cell_type": "code",
   "execution_count": 12,
   "metadata": {},
   "outputs": [
    {
     "data": {
      "text/plain": [
       "array(['cs', 'de', 'en', 'es', 'ru', 'zh'], dtype=object)"
      ]
     },
     "execution_count": 12,
     "metadata": {},
     "output_type": "execute_result"
    }
   ],
   "source": [
    "df['language'].unique()"
   ]
  },
  {
   "cell_type": "code",
   "execution_count": 13,
   "metadata": {},
   "outputs": [],
   "source": [
    "def balance_languages(text_df: pd.DataFrame,max_size:int)->pd.DataFrame:\n",
    "    new_df = pd.DataFrame()\n",
    "    for lang in df['language'].unique():\n",
    "        category_data = df[df['language'] == lang]\n",
    "        sampled_data = category_data.sample(n=max_size, random_state=42)\n",
    "        new_df = pd.concat([new_df, sampled_data], ignore_index=True)\n",
    "\n",
    "    return new_df\n",
    "\n",
    "    "
   ]
  },
  {
   "cell_type": "code",
   "execution_count": 14,
   "metadata": {},
   "outputs": [],
   "source": [
    "df = balance_languages(df,min_size)"
   ]
  },
  {
   "cell_type": "code",
   "execution_count": 15,
   "metadata": {},
   "outputs": [
    {
     "data": {
      "text/plain": [
       "cs    1495\n",
       "de    1495\n",
       "en    1495\n",
       "es    1495\n",
       "ru    1495\n",
       "zh    1495\n",
       "Name: language, dtype: int64"
      ]
     },
     "execution_count": 15,
     "metadata": {},
     "output_type": "execute_result"
    }
   ],
   "source": [
    "df['language'].value_counts()"
   ]
  },
  {
   "cell_type": "markdown",
   "metadata": {},
   "source": [
    "**All languages are balanced now. We can save the dataset to csv file.**"
   ]
  },
  {
   "cell_type": "code",
   "execution_count": 17,
   "metadata": {},
   "outputs": [],
   "source": [
    "df.to_csv(\"lng_final_dataset.csv\",index=False)"
   ]
  }
 ],
 "metadata": {
  "kaggle": {
   "accelerator": "none",
   "dataSources": [
    {
     "datasetId": 6393897,
     "sourceId": 10326467,
     "sourceType": "datasetVersion"
    }
   ],
   "dockerImageVersionId": 30822,
   "isGpuEnabled": false,
   "isInternetEnabled": true,
   "language": "python",
   "sourceType": "notebook"
  },
  "kernelspec": {
   "display_name": "Python 3 (ipykernel)",
   "language": "python",
   "name": "python3"
  },
  "language_info": {
   "codemirror_mode": {
    "name": "ipython",
    "version": 3
   },
   "file_extension": ".py",
   "mimetype": "text/x-python",
   "name": "python",
   "nbconvert_exporter": "python",
   "pygments_lexer": "ipython3",
   "version": "3.11.0"
  }
 },
 "nbformat": 4,
 "nbformat_minor": 4
}
